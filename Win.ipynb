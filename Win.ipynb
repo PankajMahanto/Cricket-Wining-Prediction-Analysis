{
 "cells": [
  {
   "cell_type": "markdown",
   "id": "0b6628a1",
   "metadata": {},
   "source": [
    "# **<font color='geen'> Real-Time Cricket Match Outcome Prediction Using Ball-by-Ball Analytics and Monte Carlo Simulation</font>**\n",
    "\n",
    "![Winning Prediction](Wining%20Prediction.jpg)\n"
   ]
  },
  {
   "cell_type": "markdown",
   "id": "5c5427c6",
   "metadata": {},
   "source": [
    "## 🧠 Objective\n",
    " We will:\n",
    "\n",
    "1.Build mock data for both teams (Australia and South Africa)\n",
    "\n",
    "2.Use a basic win probability model with factors like:\n",
    "\n",
    "- Runs Remaining\n",
    "\n",
    "- Wickets Left\n",
    "\n",
    "- Batting Conditions (flat pitch etc.)\n",
    "\n",
    "- Player form (e.g., Markram's 100*)\n",
    "-----\n",
    "\n",
    "3. Visualize momentum and predict likely winner"
   ]
  },
  {
   "cell_type": "markdown",
   "id": "40fb119f",
   "metadata": {},
   "source": [
    "## Step 1: Setup and Libraries"
   ]
  },
  {
   "cell_type": "code",
   "execution_count": 1,
   "id": "a9df8ad1",
   "metadata": {},
   "outputs": [],
   "source": [
    "import pandas as pd\n",
    "import matplotlib.pyplot as plt\n",
    "import seaborn as sns\n",
    "\n",
    "# For basic ML modeling\n",
    "from sklearn.linear_model import LogisticRegression\n",
    "from sklearn.model_selection import train_test_split\n",
    "from sklearn.metrics import accuracy_score\n"
   ]
  },
  {
   "cell_type": "markdown",
   "id": "63a35486",
   "metadata": {},
   "source": [
    "## Step 2: Simulated Match Situation Data"
   ]
  },
  {
   "cell_type": "code",
   "execution_count": 2,
   "id": "b2d09124",
   "metadata": {},
   "outputs": [],
   "source": [
    "# Mock match data every 10 runs of chase\n",
    "data = {\n",
    "    \"runs_remaining\": [150, 140, 120, 100, 90, 70, 50, 30, 10],\n",
    "    \"wickets_left\": [10, 9, 9, 8, 8, 8, 7, 7, 7],\n",
    "    \"current_batsman_form\": [0.7, 0.75, 0.78, 0.82, 0.85, 0.87, 0.9, 0.93, 0.95],  # between 0 and 1\n",
    "    \"pitch_flatness\": [0.6]*9,  # constant (0 = green, 1 = flat)\n",
    "    \"win_prob\": [0.3, 0.35, 0.45, 0.55, 0.6, 0.7, 0.82, 0.9, 0.98]  # assumed\n",
    "}\n",
    "\n",
    "df = pd.DataFrame(data)\n"
   ]
  },
  {
   "cell_type": "code",
   "execution_count": 3,
   "id": "f20165bd",
   "metadata": {},
   "outputs": [
    {
     "data": {
      "text/html": [
       "<div>\n",
       "<style scoped>\n",
       "    .dataframe tbody tr th:only-of-type {\n",
       "        vertical-align: middle;\n",
       "    }\n",
       "\n",
       "    .dataframe tbody tr th {\n",
       "        vertical-align: top;\n",
       "    }\n",
       "\n",
       "    .dataframe thead th {\n",
       "        text-align: right;\n",
       "    }\n",
       "</style>\n",
       "<table border=\"1\" class=\"dataframe\">\n",
       "  <thead>\n",
       "    <tr style=\"text-align: right;\">\n",
       "      <th></th>\n",
       "      <th>runs_remaining</th>\n",
       "      <th>wickets_left</th>\n",
       "      <th>current_batsman_form</th>\n",
       "      <th>pitch_flatness</th>\n",
       "      <th>win_prob</th>\n",
       "    </tr>\n",
       "  </thead>\n",
       "  <tbody>\n",
       "    <tr>\n",
       "      <th>0</th>\n",
       "      <td>150</td>\n",
       "      <td>10</td>\n",
       "      <td>0.70</td>\n",
       "      <td>0.6</td>\n",
       "      <td>0.30</td>\n",
       "    </tr>\n",
       "    <tr>\n",
       "      <th>1</th>\n",
       "      <td>140</td>\n",
       "      <td>9</td>\n",
       "      <td>0.75</td>\n",
       "      <td>0.6</td>\n",
       "      <td>0.35</td>\n",
       "    </tr>\n",
       "    <tr>\n",
       "      <th>2</th>\n",
       "      <td>120</td>\n",
       "      <td>9</td>\n",
       "      <td>0.78</td>\n",
       "      <td>0.6</td>\n",
       "      <td>0.45</td>\n",
       "    </tr>\n",
       "    <tr>\n",
       "      <th>3</th>\n",
       "      <td>100</td>\n",
       "      <td>8</td>\n",
       "      <td>0.82</td>\n",
       "      <td>0.6</td>\n",
       "      <td>0.55</td>\n",
       "    </tr>\n",
       "    <tr>\n",
       "      <th>4</th>\n",
       "      <td>90</td>\n",
       "      <td>8</td>\n",
       "      <td>0.85</td>\n",
       "      <td>0.6</td>\n",
       "      <td>0.60</td>\n",
       "    </tr>\n",
       "  </tbody>\n",
       "</table>\n",
       "</div>"
      ],
      "text/plain": [
       "   runs_remaining  wickets_left  current_batsman_form  pitch_flatness  \\\n",
       "0             150            10                  0.70             0.6   \n",
       "1             140             9                  0.75             0.6   \n",
       "2             120             9                  0.78             0.6   \n",
       "3             100             8                  0.82             0.6   \n",
       "4              90             8                  0.85             0.6   \n",
       "\n",
       "   win_prob  \n",
       "0      0.30  \n",
       "1      0.35  \n",
       "2      0.45  \n",
       "3      0.55  \n",
       "4      0.60  "
      ]
     },
     "execution_count": 3,
     "metadata": {},
     "output_type": "execute_result"
    }
   ],
   "source": [
    "df.head()"
   ]
  },
  {
   "cell_type": "markdown",
   "id": "94722a5a",
   "metadata": {},
   "source": [
    "## Step 3: Visualize Win Probability"
   ]
  },
  {
   "cell_type": "code",
   "execution_count": 4,
   "id": "3298e49e",
   "metadata": {},
   "outputs": [
    {
     "data": {
      "image/png": "[encoded data removed]",
      "text/plain": [
       "<Figure size 1000x500 with 1 Axes>"
      ]
     },
     "metadata": {},
     "output_type": "display_data"
    }
   ],
   "source": [
    "plt.figure(figsize=(10, 5))\n",
    "sns.lineplot(data=df, x=\"runs_remaining\", y=\"win_prob\", marker=\"o\", label=\"Win Probability (SA)\")\n",
    "plt.gca().invert_xaxis()\n",
    "plt.title(\"South Africa Win Probability During Chase\")\n",
    "plt.xlabel(\"Runs Remaining\")\n",
    "plt.ylabel(\"Win Probability\")\n",
    "plt.grid(True)\n",
    "plt.legend()\n",
    "plt.show()\n"
   ]
  },
  {
   "cell_type": "markdown",
   "id": "28967004",
   "metadata": {},
   "source": [
    "## Predictive Model (Simple Logistic Regression)"
   ]
  },
  {
   "cell_type": "code",
   "execution_count": 5,
   "id": "87b0dc02",
   "metadata": {},
   "outputs": [
    {
     "name": "stdout",
     "output_type": "stream",
     "text": [
      "Accuracy: 1.0\n"
     ]
    }
   ],
   "source": [
    "# Prepare features and label\n",
    "X = df[['runs_remaining', 'wickets_left', 'current_batsman_form', 'pitch_flatness']]\n",
    "y = df['win_prob']\n",
    "\n",
    "# Since win_prob is between 0 and 1, we can round it for binary win/lose\n",
    "y_class = (y > 0.5).astype(int)\n",
    "\n",
    "# Train/test split\n",
    "X_train, X_test, y_train, y_test = train_test_split(X, y_class, test_size=0.2, random_state=42)\n",
    "\n",
    "# Logistic Regression\n",
    "model = LogisticRegression()\n",
    "model.fit(X_train, y_train)\n",
    "\n",
    "# Prediction\n",
    "y_pred = model.predict(X_test)\n",
    "print(\"Accuracy:\", accuracy_score(y_test, y_pred))\n"
   ]
  },
  {
   "cell_type": "markdown",
   "id": "2b4dd9d6",
   "metadata": {},
   "source": [
    "## Step 5: Predict Current Situation (Live Simulation)"
   ]
  },
  {
   "cell_type": "code",
   "execution_count": 6,
   "id": "e86b8d25",
   "metadata": {},
   "outputs": [
    {
     "name": "stdout",
     "output_type": "stream",
     "text": [
      "Predicted Win Probability (South Africa): 100.0%\n"
     ]
    }
   ],
   "source": [
    "# Input current match state\n",
    "current = pd.DataFrame({\n",
    "    \"runs_remaining\": [69],\n",
    "    \"wickets_left\": [8],\n",
    "    \"current_batsman_form\": [0.95],\n",
    "    \"pitch_flatness\": [0.6]\n",
    "})\n",
    "\n",
    "# Predict probability\n",
    "pred_prob = model.predict_proba(current)[0][1]\n",
    "print(f\"Predicted Win Probability (South Africa): {round(pred_prob*100, 2)}%\")\n"
   ]
  },
  {
   "cell_type": "markdown",
   "id": "e135f0fc",
   "metadata": {},
   "source": [
    "# Step-by-Step Advanced Prediction System"
   ]
  },
  {
   "cell_type": "code",
   "execution_count": 19,
   "id": "b28aa1f5",
   "metadata": {},
   "outputs": [],
   "source": [
    "import pandas as pd\n",
    "import numpy as np\n",
    "import matplotlib.pyplot as plt\n",
    "import seaborn as sns\n",
    "\n",
    "from sklearn.model_selection import train_test_split\n",
    "from sklearn.ensemble import RandomForestClassifier, GradientBoostingClassifier\n",
    "from sklearn.linear_model import LogisticRegression\n",
    "from sklearn.metrics import accuracy_score, classification_report\n"
   ]
  },
  {
   "cell_type": "markdown",
   "id": "bbbb0da3",
   "metadata": {},
   "source": [
    "## Step 2: Simulated Dataset with Advanced Features"
   ]
  },
  {
   "cell_type": "code",
   "execution_count": 20,
   "id": "c4429fe5",
   "metadata": {},
   "outputs": [],
   "source": [
    "# Create an advanced mock dataset with more features\n",
    "data = {\n",
    "    'runs_remaining':      [150, 130, 120, 100, 80, 60, 40, 20, 10],\n",
    "    'wickets_left':        [10, 9, 9, 8, 7, 6, 6, 5, 5],\n",
    "    'overs_remaining':     [60, 55, 50, 45, 40, 35, 30, 25, 20],\n",
    "    'current_rr':          [3.0, 3.2, 3.4, 3.5, 3.8, 4.0, 4.2, 4.5, 4.7],\n",
    "    'required_rr':         [2.5, 2.4, 2.3, 2.2, 2.0, 1.9, 1.6, 1.2, 1.0],\n",
    "    'batsman_form':        [0.65, 0.7, 0.75, 0.8, 0.83, 0.88, 0.9, 0.95, 0.98],\n",
    "    'bowling_intensity':   [0.85, 0.82, 0.80, 0.75, 0.7, 0.68, 0.6, 0.55, 0.5],\n",
    "    'pitch_flatness':      [0.5]*9,\n",
    "    'crowd_pressure':      [0.4, 0.35, 0.3, 0.3, 0.25, 0.2, 0.15, 0.1, 0.05],\n",
    "    'win_label':           [0, 0, 0, 1, 1, 1, 1, 1, 1]  # 1 = likely win\n",
    "}\n",
    "\n",
    "df = pd.DataFrame(data)\n"
   ]
  },
  {
   "cell_type": "markdown",
   "id": "64df3de8",
   "metadata": {},
   "source": [
    "## Step 3: Feature Importance Visualization"
   ]
  },
  {
   "cell_type": "code",
   "execution_count": 21,
   "id": "41d73d04",
   "metadata": {},
   "outputs": [
    {
     "data": {
      "image/png": "[encoded data removed]",
      "text/plain": [
       "<Figure size 640x480 with 2 Axes>"
      ]
     },
     "metadata": {},
     "output_type": "display_data"
    }
   ],
   "source": [
    "sns.heatmap(df.corr(), annot=True, cmap='coolwarm')\n",
    "plt.title(\"Feature Correlation Matrix\")\n",
    "plt.show()\n"
   ]
  },
  {
   "cell_type": "markdown",
   "id": "75a4ccae",
   "metadata": {},
   "source": [
    "##  Step 4: Train-Test Split"
   ]
  },
  {
   "cell_type": "code",
   "execution_count": 22,
   "id": "7b8324d1",
   "metadata": {},
   "outputs": [],
   "source": [
    "X = df.drop('win_label', axis=1)\n",
    "y = df['win_label']\n",
    "\n",
    "X_train, X_test, y_train, y_test = train_test_split(X, y, test_size=0.2, random_state=42)\n"
   ]
  },
  {
   "cell_type": "markdown",
   "id": "cec423f3",
   "metadata": {},
   "source": [
    "## Step 5: Train Multiple Models"
   ]
  },
  {
   "cell_type": "code",
   "execution_count": 23,
   "id": "d340c798",
   "metadata": {},
   "outputs": [
    {
     "name": "stdout",
     "output_type": "stream",
     "text": [
      "\n",
      "Model: Logistic Regression\n",
      "Accuracy: 1.0\n",
      "Classification Report:\n",
      "               precision    recall  f1-score   support\n",
      "\n",
      "           0       1.00      1.00      1.00         1\n",
      "           1       1.00      1.00      1.00         1\n",
      "\n",
      "    accuracy                           1.00         2\n",
      "   macro avg       1.00      1.00      1.00         2\n",
      "weighted avg       1.00      1.00      1.00         2\n",
      "\n",
      "\n",
      "Model: Random Forest\n",
      "Accuracy: 1.0\n",
      "Classification Report:\n",
      "               precision    recall  f1-score   support\n",
      "\n",
      "           0       1.00      1.00      1.00         1\n",
      "           1       1.00      1.00      1.00         1\n",
      "\n",
      "    accuracy                           1.00         2\n",
      "   macro avg       1.00      1.00      1.00         2\n",
      "weighted avg       1.00      1.00      1.00         2\n",
      "\n",
      "\n",
      "Model: Gradient Boosting\n",
      "Accuracy: 1.0\n",
      "Classification Report:\n",
      "               precision    recall  f1-score   support\n",
      "\n",
      "           0       1.00      1.00      1.00         1\n",
      "           1       1.00      1.00      1.00         1\n",
      "\n",
      "    accuracy                           1.00         2\n",
      "   macro avg       1.00      1.00      1.00         2\n",
      "weighted avg       1.00      1.00      1.00         2\n",
      "\n"
     ]
    }
   ],
   "source": [
    "models = {\n",
    "    \"Logistic Regression\": LogisticRegression(),\n",
    "    \"Random Forest\": RandomForestClassifier(n_estimators=100),\n",
    "    \"Gradient Boosting\": GradientBoostingClassifier(n_estimators=100)\n",
    "}\n",
    "\n",
    "for name, model in models.items():\n",
    "    model.fit(X_train, y_train)\n",
    "    y_pred = model.predict(X_test)\n",
    "    print(f\"\\nModel: {name}\")\n",
    "    print(\"Accuracy:\", accuracy_score(y_test, y_pred))\n",
    "    print(\"Classification Report:\\n\", classification_report(y_test, y_pred))\n"
   ]
  },
  {
   "cell_type": "markdown",
   "id": "4bc52f58",
   "metadata": {},
   "source": [
    "## Step 6: Predict Current Match Situation (WTC Final)"
   ]
  },
  {
   "cell_type": "code",
   "execution_count": 24,
   "id": "3999220d",
   "metadata": {},
   "outputs": [
    {
     "name": "stdout",
     "output_type": "stream",
     "text": [
      "Predicted Win Probability (South Africa): 99.95%\n"
     ]
    }
   ],
   "source": [
    "current_match = pd.DataFrame({\n",
    "    'runs_remaining': [69],\n",
    "    'wickets_left': [8],\n",
    "    'overs_remaining': [40],\n",
    "    'current_rr': [3.1],\n",
    "    'required_rr': [1.7],\n",
    "    'batsman_form': [0.95],\n",
    "    'bowling_intensity': [0.6],  # Lower = tired bowlers\n",
    "    'pitch_flatness': [0.65],  # More flat = batting friendly\n",
    "    'crowd_pressure': [0.2]\n",
    "})\n",
    "\n",
    "# Use best model (e.g., Gradient Boosting)\n",
    "best_model = models[\"Gradient Boosting\"]\n",
    "win_prediction = best_model.predict_proba(current_match)[0][1]  # probability of class 1 (win)\n",
    "\n",
    "print(f\"Predicted Win Probability (South Africa): {round(win_prediction * 100, 2)}%\")\n"
   ]
  },
  {
   "cell_type": "markdown",
   "id": "9019c18e",
   "metadata": {},
   "source": [
    "## API Data "
   ]
  },
  {
   "cell_type": "code",
   "execution_count": 53,
   "id": "cc170968",
   "metadata": {},
   "outputs": [],
   "source": [
    "import yaml\n",
    "import pandas as pd\n",
    "\n",
    "with open(\"wtc25-final.yaml\", 'r') as f:\n",
    "    data = yaml.safe_load(f)"
   ]
  },
  {
   "cell_type": "code",
   "execution_count": null,
   "id": "bdd67de3",
   "metadata": {},
   "outputs": [],
   "source": [
    "import pandas as pd\n",
    "import matplotlib.pyplot as plt\n",
    "import seaborn as sns\n",
    "from xgboost import XGBClassifier\n",
    "from sklearn.model_selection import train_test_split\n",
    "from sklearn.metrics import accuracy_score\n",
    "\n",
    "# Manually construct ball-level summary from YAML-like match summary\n",
    "# Since it's summary-based, we'll simulate ball-by-ball data using cumulative logic\n",
    "\n",
    "# Creating DataFrame for 4th innings (since it's the chase)\n",
    "innings_data = [\n",
    "    {\"ball\": i + 1,\n",
    "     \"cumulative_runs\": run,\n",
    "     \"cumulative_wickets\": 0 if i < 2 else (1 if i < 17 else 2),\n",
    "     \"batsman_form\": 0.9,\n",
    "     \"pitch_flatness\": 0.65,\n",
    "     \"crowd_pressure\": 0.2\n",
    "     } for i, run in enumerate(range(1, 214))\n",
    "]\n",
    "\n",
    "df = pd.DataFrame(innings_data)\n",
    "df['balls_faced'] = df.index + 1\n",
    "df['run_rate'] = df['cumulative_runs'] / (df['balls_faced'] / 6)\n",
    "df['required_runs'] = 282 - df['cumulative_runs']\n",
    "df['required_rr'] = df['required_runs'] / ((60*6 - df['balls_faced']) / 6)\n",
    "df['wickets_left'] = 10 - df['cumulative_wickets']\n",
    "df['win_label'] = (df['cumulative_runs'] >= 282).astype(int)  # simulate win condition\n",
    "\n",
    "# Features\n",
    "features = ['cumulative_runs', 'cumulative_wickets', 'balls_faced', 'run_rate', 'required_rr', 'batsman_form', 'pitch_flatness', 'crowd_pressure']\n",
    "X = df[features]\n",
    "y = df['win_label']\n",
    "\n",
    "# Train/test split\n",
    "X_train, X_test, y_train, y_test = train_test_split(X, y, test_size=0.2, random_state=42)\n",
    "\n",
    "# XGBoost model\n",
    "model = XGBClassifier()\n",
    "model.fit(X_train, y_train)\n",
    "y_pred = model.predict(X_test)\n",
    "accuracy = accuracy_score(y_test, y_pred)\n",
    "\n",
    "# Predict current situation (213/2, 69 to win)\n",
    "current_state = pd.DataFrame([{\n",
    "    'cumulative_runs': 213,\n",
    "    'cumulative_wickets': 2,\n",
    "    'balls_faced': 336,  # 56 overs\n",
    "    'run_rate': 213 / (336 / 6),\n",
    "    'required_rr': 69 / ((360 - 336) / 6),  # 360 = 60 overs\n",
    "    'batsman_form': 0.95,\n",
    "    'pitch_flatness': 0.65,\n",
    "    'crowd_pressure': 0.2\n",
    "}])\n",
    "\n",
    "pred_prob = model.predict_proba(current_state)[0][1]\n",
    "\n",
    "import seaborn as sns\n",
    "import matplotlib.pyplot as plt\n",
    "\n",
    "# Visualize win probability over the innings\n",
    "df['win_probability'] = model.predict_proba(df[features])[:, 1]\n",
    "\n",
    "plt.figure(figsize=(10, 6))\n",
    "sns.lineplot(data=df, x=\"cumulative_runs\", y=\"win_probability\")\n",
    "plt.title(\"Win Probability Progression for South Africa (4th Innings)\")\n",
    "plt.xlabel(\"Cumulative Runs\")\n",
    "plt.ylabel(\"Win Probability\")\n",
    "plt.grid(True)\n",
    "plt.tight_layout()\n",
    "plt.show()\n",
    "\n",
    "import numpy as np\n",
    "win_prob_final = round(pred_prob * 100, 2)\n",
    "win_prob_final\n"
   ]
  },
  {
   "cell_type": "code",
   "execution_count": null,
   "id": "b83a2fea",
   "metadata": {},
   "outputs": [
    {
     "name": "stderr",
     "output_type": "stream",
     "text": [
      "c:\\Users\\Pankaj\\anaconda3\\Lib\\site-packages\\xgboost\\training.py:183: UserWarning: [15:06:43] WARNING: C:\\actions-runner\\_work\\xgboost\\xgboost\\src\\learner.cc:738: \n",
      "Parameters: { \"use_label_encoder\" } are not used.\n",
      "\n",
      "  bst.update(dtrain, iteration=i, fobj=obj)\n",
      "c:\\Users\\Pankaj\\anaconda3\\Lib\\site-packages\\keras\\src\\layers\\core\\dense.py:87: UserWarning: Do not pass an `input_shape`/`input_dim` argument to a layer. When using Sequential models, prefer using an `Input(shape)` object as the first layer in the model instead.\n",
      "  super().__init__(activity_regularizer=activity_regularizer, **kwargs)\n"
     ]
    }
   ],
   "source": [
    "import pandas as pd\n",
    "import numpy as np\n",
    "from xgboost import XGBClassifier\n",
    "from sklearn.model_selection import train_test_split\n",
    "from sklearn.metrics import accuracy_score\n",
    "import random\n",
    "from tensorflow.keras.models import Sequential\n",
    "from tensorflow.keras.layers import Dense\n",
    "\n",
    "# STEP 2 & 3: Simulated ball-by-ball data for 4th innings from match summary\n",
    "balls = []\n",
    "total_runs = 213\n",
    "wickets_by_ball = [0]*12 + [1]*6 + [2]*(56*6 - 18)  # first wicket at ball ~13, second at ~18\n",
    "\n",
    "for i in range(total_runs):\n",
    "    ball_number = i + 1\n",
    "    runs = i + 1\n",
    "    wickets = wickets_by_ball[i]\n",
    "    balls.append({\n",
    "        \"ball\": ball_number,\n",
    "        \"cumulative_runs\": runs,\n",
    "        \"cumulative_wickets\": wickets,\n",
    "        \"balls_faced\": ball_number,\n",
    "        \"run_rate\": runs / (ball_number / 6),\n",
    "        \"required_runs\": 282 - runs,\n",
    "        \"required_rr\": (282 - runs) / ((360 - ball_number) / 6),\n",
    "        \"batsman_form\": 0.95,\n",
    "        \"pitch_flatness\": 0.65,\n",
    "        \"crowd_pressure\": 0.2,\n",
    "        \"win_label\": 1 if runs >= 282 else 0\n",
    "    })\n",
    "\n",
    "df = pd.DataFrame(balls)\n",
    "\n",
    "# STEP 4: Prepare features and labels\n",
    "features = ['cumulative_runs', 'cumulative_wickets', 'balls_faced', 'run_rate',\n",
    "            'required_rr', 'batsman_form', 'pitch_flatness', 'crowd_pressure']\n",
    "X = df[features]\n",
    "y = df['win_label'].astype(int)\n",
    "\n",
    "# Train/test split\n",
    "X_train, X_test, y_train, y_test = train_test_split(X, y, test_size=0.2, random_state=42)\n",
    "\n",
    "# Train XGBoost\n",
    "# xgb_model = XGBClassifier(use_label_encoder=False, eval_metric='logloss')\n",
    "xgb_model = XGBClassifier(objective='binary:logistic',\n",
    "                          eval_metric='logloss', \n",
    "                          use_label_encoder=False,\n",
    "                          base_score = 0.5\n",
    "                          )\n",
    "\n",
    "xgb_model.fit(X_train, y_train)\n",
    "xgb_accuracy = accuracy_score(y_test, xgb_model.predict(X_test))\n",
    "\n",
    "# Optional: Neural Network (Keras)\n",
    "nn_model = Sequential([\n",
    "    Dense(16, activation='relu', input_dim=len(features)),\n",
    "    Dense(8, activation='relu'),\n",
    "    Dense(1, activation='sigmoid')\n",
    "])\n",
    "nn_model.compile(optimizer='adam', loss='binary_crossentropy', metrics=['accuracy'])\n",
    "nn_model.fit(X_train, y_train, epochs=20, verbose=0)\n",
    "nn_accuracy = nn_model.evaluate(X_test, y_test, verbose=0)[1]\n",
    "\n",
    "# STEP 5: Monte Carlo Simulation for Chase Outcome\n",
    "def simulate_chase(model, balls_left=360, target=282, current_runs=213, current_wickets=2, simulations=1000):\n",
    "    wins = 0\n",
    "    for _ in range(simulations):\n",
    "        runs = current_runs\n",
    "        wickets = current_wickets\n",
    "        for ball in range(balls_left):\n",
    "            rr = runs / ((ball + 1) / 6) if ball > 0 else 0\n",
    "            req_rr = (target - runs) / ((balls_left - ball) / 6) if (balls_left - ball) > 0 else 0\n",
    "            sample = pd.DataFrame([[\n",
    "                runs, wickets, ball + 1, rr, req_rr, 0.95, 0.65, 0.2\n",
    "            ]], columns=features)\n",
    "            win_prob = model.predict_proba(sample)[0][1]\n",
    "            if random.random() < win_prob:\n",
    "                runs += random.choices([0,1,2,3,4,6], weights=[0.3,0.4,0.1,0.05,0.1,0.05])[0]\n",
    "            if random.random() < 0.015:  # 1.5% chance of wicket per ball\n",
    "                wickets += 1\n",
    "            if runs >= target:\n",
    "                wins += 1\n",
    "                break\n",
    "            if wickets >= 10:\n",
    "                break\n",
    "    return wins / simulations\n",
    "\n",
    "monte_carlo_win_prob = simulate_chase(xgb_model)\n",
    "\n",
    "(xgb_accuracy, nn_accuracy, round(monte_carlo_win_prob * 100, 2))\n"
   ]
  },
  {
   "cell_type": "code",
   "execution_count": null,
   "id": "03e46b46",
   "metadata": {},
   "outputs": [],
   "source": []
  },
  {
   "cell_type": "code",
   "execution_count": null,
   "id": "c7ef5e34",
   "metadata": {},
   "outputs": [],
   "source": []
  },
  {
   "cell_type": "code",
   "execution_count": null,
   "id": "c5d089ee",
   "metadata": {},
   "outputs": [],
   "source": []
  },
  {
   "cell_type": "code",
   "execution_count": null,
   "id": "b333a180",
   "metadata": {},
   "outputs": [],
   "source": []
  },
  {
   "cell_type": "code",
   "execution_count": 3,
   "id": "b791ad3b",
   "metadata": {},
   "outputs": [],
   "source": [
    "import yaml\n",
    "import pandas as pd\n",
    "\n",
    "with open(\"wtc25-final.yaml\", 'r') as f:\n",
    "    data = yaml.safe_load(f)\n"
   ]
  },
  {
   "cell_type": "code",
   "execution_count": 4,
   "id": "6b9333dc",
   "metadata": {},
   "outputs": [
    {
     "name": "stdout",
     "output_type": "stream",
     "text": [
      "   inning_number          team  total_runs  total_overs  total_wickets  \\\n",
      "0              1     Australia         212         56.4             10   \n",
      "1              2  South Africa         138         57.1             10   \n",
      "2              3     Australia         207         64.6             10   \n",
      "3              4  South Africa         213         56.0              2   \n",
      "\n",
      "   target  runs_needed  \n",
      "0     NaN          NaN  \n",
      "1     NaN          NaN  \n",
      "2     NaN          NaN  \n",
      "3   282.0         69.0  \n"
     ]
    }
   ],
   "source": [
    "\n",
    "# Simulated YAML structure based on the user's input\n",
    "data = {\n",
    "    'innings': [\n",
    "        {\n",
    "            'number': 1,\n",
    "            'batting_team': 'Australia',\n",
    "            'total': 212,\n",
    "            'overs': 56.4,\n",
    "            'wickets': 10,\n",
    "            'fall_of_wickets': [\n",
    "                {'wkt': 1, 'batsman': 'Khawaja', 'score': 12, 'over': 6.3},\n",
    "                {'wkt': 2, 'batsman': 'M. Green', 'score': 16, 'over': 6.6},\n",
    "                {'wkt': 3, 'batsman': 'Labuschagne', 'score': 46, 'over': 17.6},\n",
    "                {'wkt': 4, 'batsman': 'Head', 'score': 67, 'over': 23.2},\n",
    "                {'wkt': 5, 'batsman': 'Smith', 'score': 146, 'over': 41.6},\n",
    "                {'wkt': 6, 'batsman': 'Carey', 'score': 192, 'over': 51.1},\n",
    "                {'wkt': 7, 'batsman': 'Cummins', 'score': 199, 'over': 52.4},\n",
    "                {'wkt': 8, 'batsman': 'Webster', 'score': 210, 'over': 54.4},\n",
    "                {'wkt': 9, 'batsman': 'Lyon', 'score': 211, 'over': 55.5},\n",
    "                {'wkt': 10, 'batsman': 'Starc', 'score': 212, 'over': 56.4},\n",
    "            ]\n",
    "        },\n",
    "        {\n",
    "            'number': 2,\n",
    "            'batting_team': 'South Africa',\n",
    "            'total': 138,\n",
    "            'overs': 57.1,\n",
    "            'wickets': 10,\n",
    "            'fall_of_wickets': [\n",
    "                {'wkt': 1, 'batsman': 'Markram', 'score': 0, 'over': 0.6},\n",
    "                {'wkt': 2, 'batsman': 'Rickelton', 'score': 19, 'over': 8.4},\n",
    "                {'wkt': 3, 'batsman': 'Mulder', 'score': 25, 'over': 15.2},\n",
    "                {'wkt': 4, 'batsman': 'Stubbs', 'score': 30, 'over': 20.2},\n",
    "                {'wkt': 5, 'batsman': 'Bavuma', 'score': 94, 'over': 39.2},\n",
    "                {'wkt': 6, 'batsman': 'Verreynne', 'score': 126, 'over': 51.3},\n",
    "                {'wkt': 7, 'batsman': 'Jansen', 'score': 126, 'over': 51.6},\n",
    "                {'wkt': 8, 'batsman': 'Bedingham', 'score': 135, 'over': 55.2},\n",
    "                {'wkt': 9, 'batsman': 'Maharaj', 'score': 138, 'over': 56.5},\n",
    "                {'wkt': 10, 'batsman': 'Rabada', 'score': 138, 'over': 57.1},\n",
    "            ]\n",
    "        },\n",
    "        {\n",
    "            'number': 3,\n",
    "            'batting_team': 'Australia',\n",
    "            'total': 207,\n",
    "            'overs': 64.6,\n",
    "            'wickets': 10,\n",
    "            'fall_of_wickets': [\n",
    "                {'wkt': 1, 'batsman': 'Khawaja', 'score': 28, 'over': 10.2},\n",
    "                {'wkt': 2, 'batsman': 'Green', 'score': 28, 'over': 10.4},\n",
    "                {'wkt': 3, 'batsman': 'Labuschagne', 'score': 44, 'over': 17.5},\n",
    "                {'wkt': 4, 'batsman': 'Smith', 'score': 48, 'over': 18.5},\n",
    "                {'wkt': 5, 'batsman': 'Webster', 'score': 64, 'over': 22.6},\n",
    "                {'wkt': 6, 'batsman': 'Head', 'score': 66, 'over': 23.4},\n",
    "                {'wkt': 7, 'batsman': 'Cummins', 'score': 73, 'over': 24.5},\n",
    "                {'wkt': 8, 'batsman': 'Carey', 'score': 134, 'over': 38.2},\n",
    "                {'wkt': 9, 'batsman': 'Lyon', 'score': 148, 'over': 42.4},\n",
    "                {'wkt': 10, 'batsman': 'Hazlewood', 'score': 207, 'over': 64.6},\n",
    "            ]\n",
    "        },\n",
    "        {\n",
    "            'number': 4,\n",
    "            'batting_team': 'South Africa',\n",
    "            'total': 213,\n",
    "            'overs': 56.0,\n",
    "            'wickets': 2,\n",
    "            'target': 282,\n",
    "            'runs_needed': 69,\n",
    "            'is_day_end': True,\n",
    "            'batting': [\n",
    "                {'batsman': 'Markram', 'runs': 102, 'balls': 159, 'fours': 11, 'sixes': 0, 'not_out': True, 'sr': 64.15},\n",
    "                {'batsman': 'Bavuma', 'runs': 65, 'balls': 121, 'fours': 5, 'sixes': 0, 'not_out': True, 'sr': 53.72},\n",
    "            ],\n",
    "            'partnership': [\n",
    "                {'between': ['Markram', 'Bavuma'], 'runs': 143, 'balls': 232},\n",
    "            ],\n",
    "            'fall_of_wickets': [\n",
    "                {'wkt': 1, 'batsman': 'Rickelton', 'score': 9, 'over': 2.1},\n",
    "                {'wkt': 2, 'batsman': 'Mulder', 'score': 70, 'over': 17.4},\n",
    "            ]\n",
    "        }\n",
    "    ]\n",
    "}\n",
    "\n",
    "# Parse innings\n",
    "innings_data = data['innings']\n",
    "summary_list = []\n",
    "\n",
    "for inn in innings_data:\n",
    "    entry = {\n",
    "        'inning_number': inn.get('number'),\n",
    "        'team': inn.get('batting_team'),\n",
    "        'total_runs': inn.get('total'),\n",
    "        'total_overs': inn.get('overs'),\n",
    "        'total_wickets': inn.get('wickets'),\n",
    "    }\n",
    "\n",
    "    fows = inn.get('fall_of_wickets', [])\n",
    "    entry['fall_of_wickets'] = [(f['batsman'], f['score'], f['over']) for f in fows]\n",
    "\n",
    "    if 'target' in inn:\n",
    "        entry['target'] = inn.get('target')\n",
    "        entry['runs_needed'] = inn.get('runs_needed')\n",
    "        entry['is_day_end'] = inn.get('is_day_end')\n",
    "        entry['batting_scores'] = inn.get('batting', [])\n",
    "        entry['partnerships'] = inn.get('partnership', [])\n",
    "\n",
    "    summary_list.append(entry)\n",
    "\n",
    "df_summary = pd.DataFrame(summary_list)\n",
    "pd.set_option('display.max_colwidth', 200)\n",
    "# import ace_tools as tools; tools.display_dataframe_to_user(name=\"Match Summary\", dataframe=df_summary[['inning_number', 'team', 'total_runs', 'total_overs', 'total_wickets', 'target', 'runs_needed']])\n",
    "df_summary = pd.DataFrame(summary_list)\n",
    "# pd.set_option('display.max_colwidth', 200)\n",
    "print(df_summary[['inning_number', 'team', 'total_runs', 'total_overs', 'total_wickets', 'target', 'runs_needed']])"
   ]
  },
  {
   "cell_type": "code",
   "execution_count": 51,
   "id": "be1911f6",
   "metadata": {},
   "outputs": [
    {
     "data": {
      "text/html": [
       "<div>\n",
       "<style scoped>\n",
       "    .dataframe tbody tr th:only-of-type {\n",
       "        vertical-align: middle;\n",
       "    }\n",
       "\n",
       "    .dataframe tbody tr th {\n",
       "        vertical-align: top;\n",
       "    }\n",
       "\n",
       "    .dataframe thead th {\n",
       "        text-align: right;\n",
       "    }\n",
       "</style>\n",
       "<table border=\"1\" class=\"dataframe\">\n",
       "  <thead>\n",
       "    <tr style=\"text-align: right;\">\n",
       "      <th></th>\n",
       "      <th>innings</th>\n",
       "    </tr>\n",
       "  </thead>\n",
       "  <tbody>\n",
       "    <tr>\n",
       "      <th>0</th>\n",
       "      <td>{'number': 1, 'batting_team': 'Australia', 'total': 212, 'overs': 56.4, 'wickets': 10, 'fall_of_wickets': [{'wkt': 1, 'batsman': 'Khawaja', 'score': 12, 'over': 6.3}, {'wkt': 2, 'batsman': 'M. Gre...</td>\n",
       "    </tr>\n",
       "    <tr>\n",
       "      <th>1</th>\n",
       "      <td>{'number': 2, 'batting_team': 'South Africa', 'total': 138, 'overs': 57.1, 'wickets': 10, 'fall_of_wickets': [{'wkt': 1, 'batsman': 'Markram', 'score': 0, 'over': 0.6}, {'wkt': 2, 'batsman': 'Rick...</td>\n",
       "    </tr>\n",
       "    <tr>\n",
       "      <th>2</th>\n",
       "      <td>{'number': 3, 'batting_team': 'Australia', 'total': 207, 'overs': 64.6, 'wickets': 10, 'fall_of_wickets': [{'wkt': 1, 'batsman': 'Khawaja', 'score': 28, 'over': 10.2}, {'wkt': 2, 'batsman': 'Green...</td>\n",
       "    </tr>\n",
       "    <tr>\n",
       "      <th>3</th>\n",
       "      <td>{'number': 4, 'batting_team': 'South Africa', 'total': 213, 'overs': 56.0, 'wickets': 2, 'target': 282, 'runs_needed': 69, 'is_day_end': True, 'batting': [{'batsman': 'Markram', 'runs': 102, 'ball...</td>\n",
       "    </tr>\n",
       "  </tbody>\n",
       "</table>\n",
       "</div>"
      ],
      "text/plain": [
       "                                                                                                                                                                                                   innings\n",
       "0  {'number': 1, 'batting_team': 'Australia', 'total': 212, 'overs': 56.4, 'wickets': 10, 'fall_of_wickets': [{'wkt': 1, 'batsman': 'Khawaja', 'score': 12, 'over': 6.3}, {'wkt': 2, 'batsman': 'M. Gre...\n",
       "1  {'number': 2, 'batting_team': 'South Africa', 'total': 138, 'overs': 57.1, 'wickets': 10, 'fall_of_wickets': [{'wkt': 1, 'batsman': 'Markram', 'score': 0, 'over': 0.6}, {'wkt': 2, 'batsman': 'Rick...\n",
       "2  {'number': 3, 'batting_team': 'Australia', 'total': 207, 'overs': 64.6, 'wickets': 10, 'fall_of_wickets': [{'wkt': 1, 'batsman': 'Khawaja', 'score': 28, 'over': 10.2}, {'wkt': 2, 'batsman': 'Green...\n",
       "3  {'number': 4, 'batting_team': 'South Africa', 'total': 213, 'overs': 56.0, 'wickets': 2, 'target': 282, 'runs_needed': 69, 'is_day_end': True, 'batting': [{'batsman': 'Markram', 'runs': 102, 'ball..."
      ]
     },
     "execution_count": 51,
     "metadata": {},
     "output_type": "execute_result"
    }
   ],
   "source": [
    "df = pd.DataFrame(data)\n",
    "df.head()"
   ]
  },
  {
   "cell_type": "markdown",
   "id": "04bd53ae",
   "metadata": {},
   "source": [
    "## STEP 2: Parse Ball-by-Ball Event Data"
   ]
  },
  {
   "cell_type": "code",
   "execution_count": 5,
   "id": "a731fc7c",
   "metadata": {},
   "outputs": [
    {
     "name": "stdout",
     "output_type": "stream",
     "text": [
      "Empty DataFrame\n",
      "Columns: []\n",
      "Index: []\n"
     ]
    }
   ],
   "source": [
    "balls = []\n",
    "innings = data.get('innings', [])\n",
    "\n",
    "for inn in innings:\n",
    "    # Example: {'1st innings': {'team': ..., 'deliveries': [...]}}\n",
    "    for inn_name, inn_data in inn.items():\n",
    "        # Make sure it's a dictionary with 'deliveries'\n",
    "        if isinstance(inn_data, dict) and 'deliveries' in inn_data:\n",
    "            for delivery in inn_data['deliveries']:\n",
    "                if isinstance(delivery, dict):\n",
    "                    for ball, details in delivery.items():\n",
    "                        balls.append({\n",
    "                            \"innings\": inn_name,\n",
    "                            \"ball\": ball,\n",
    "                            \"batsman\": details.get('batsman', None),\n",
    "                            \"bowler\": details.get('bowler', None),\n",
    "                            \"runs\": details.get('runs', {}).get('total', 0),\n",
    "                            \"wickets\": 1 if 'wicket' in details else 0\n",
    "                        })\n",
    "\n",
    "# Create DataFrame\n",
    "df = pd.DataFrame(balls)\n",
    "print(df.head())\n",
    "\n"
   ]
  },
  {
   "cell_type": "code",
   "execution_count": 6,
   "id": "30fbe744",
   "metadata": {},
   "outputs": [
    {
     "name": "stdout",
     "output_type": "stream",
     "text": [
      "   inning_number          team  total_runs  total_overs  total_wickets  \\\n",
      "0              1     Australia         212         56.4             10   \n",
      "1              2  South Africa         138         57.1             10   \n",
      "2              3     Australia         207         64.6             10   \n",
      "3              4  South Africa         213         56.0              2   \n",
      "\n",
      "   target  runs_needed  \n",
      "0     NaN          NaN  \n",
      "1     NaN          NaN  \n",
      "2     NaN          NaN  \n",
      "3   282.0         69.0  \n"
     ]
    }
   ],
   "source": [
    "innings_data = data['innings']\n",
    "summary_list = []\n",
    "\n",
    "for inn in innings_data:\n",
    "    entry = {\n",
    "        'inning_number': inn.get('number'),\n",
    "        'team': inn.get('batting_team'),\n",
    "        'total_runs': inn.get('total'),\n",
    "        'total_overs': inn.get('overs'),\n",
    "        'total_wickets': inn.get('wickets'),\n",
    "    }\n",
    "\n",
    "    # Fall of wickets info (list of dicts)\n",
    "    fows = inn.get('fall_of_wickets', [])\n",
    "    entry['fall_of_wickets'] = [(f['batsman'], f['score'], f['over']) for f in fows]\n",
    "\n",
    "    # Special case for 4th innings\n",
    "    if 'target' in inn:\n",
    "        entry['target'] = inn.get('target')\n",
    "        entry['runs_needed'] = inn.get('runs_needed')\n",
    "        entry['is_day_end'] = inn.get('is_day_end')\n",
    "        entry['batting_scores'] = inn.get('batting', [])\n",
    "        entry['partnerships'] = inn.get('partnership', [])\n",
    "\n",
    "    summary_list.append(entry)\n",
    "\n",
    "# Convert to DataFrame for overview\n",
    "df_summary = pd.DataFrame(summary_list)\n",
    "pd.set_option('display.max_colwidth', 200)\n",
    "print(df_summary[['inning_number', 'team', 'total_runs', 'total_overs', 'total_wickets', 'target', 'runs_needed']])"
   ]
  },
  {
   "cell_type": "markdown",
   "id": "f70ef1db",
   "metadata": {},
   "source": [
    "## STEP 3: Feature Engineering for ML"
   ]
  },
  {
   "cell_type": "code",
   "execution_count": null,
   "id": "83a4841e",
   "metadata": {},
   "outputs": [],
   "source": [
    "df['cumulative_runs'] = df.groupby('innings')['runs'].cumsum()\n",
    "df['cumulative_wickets'] = df.groupby('innings')['wickets'].cumsum()\n",
    "df['balls_faced'] = df.groupby('innings').cumcount() + 1\n",
    "df['run_rate'] = df['cumulative_runs'] / (df['balls_faced'] / 6)\n"
   ]
  },
  {
   "cell_type": "markdown",
   "id": "87073088",
   "metadata": {},
   "source": [
    "## STEP 4: Model Training - XGBoost / Neural Network"
   ]
  },
  {
   "cell_type": "code",
   "execution_count": null,
   "id": "10a2c134",
   "metadata": {},
   "outputs": [],
   "source": [
    "import xgboost\n",
    "print(xgboost.__version__)"
   ]
  },
  {
   "cell_type": "code",
   "execution_count": null,
   "id": "abe2da1f",
   "metadata": {},
   "outputs": [],
   "source": [
    "from sklearn.model_selection import train_test_split\n",
    "from xgboost import XGBClassifier\n",
    "\n",
    "features = ['cumulative_runs', 'cumulative_wickets', 'balls_faced', 'run_rate']\n",
    "X = df[features]\n",
    "y = (df['cumulative_runs'] > 250).astype(int)  # simulate win label\n",
    "\n",
    "X_train, X_test, y_train, y_test = train_test_split(X, y, test_size=0.2)\n"
   ]
  },
  {
   "cell_type": "markdown",
   "id": "0dd2ba5c",
   "metadata": {},
   "source": [
    "## Train XGBoost"
   ]
  },
  {
   "cell_type": "code",
   "execution_count": null,
   "id": "6f3bca8d",
   "metadata": {},
   "outputs": [],
   "source": [
    "model = XGBClassifier()\n",
    "model.fit(X_train, y_train)\n",
    "print(\"Accuracy:\", model.score(X_test, y_test))\n"
   ]
  },
  {
   "cell_type": "markdown",
   "id": "d74b5c76",
   "metadata": {},
   "source": [
    "## Optional: Neural Network (Keras)"
   ]
  },
  {
   "cell_type": "code",
   "execution_count": 30,
   "id": "e34673bb",
   "metadata": {},
   "outputs": [
    {
     "name": "stdout",
     "output_type": "stream",
     "text": [
      "Epoch 1/20\n"
     ]
    },
    {
     "name": "stderr",
     "output_type": "stream",
     "text": [
      "c:\\Users\\Pankaj\\anaconda3\\Lib\\site-packages\\keras\\src\\layers\\core\\dense.py:87: UserWarning: Do not pass an `input_shape`/`input_dim` argument to a layer. When using Sequential models, prefer using an `Input(shape)` object as the first layer in the model instead.\n",
      "  super().__init__(activity_regularizer=activity_regularizer, **kwargs)\n"
     ]
    },
    {
     "name": "stdout",
     "output_type": "stream",
     "text": [
      "\u001b[1m1/1\u001b[0m \u001b[32m━━━━━━━━━━━━━━━━━━━━\u001b[0m\u001b[37m\u001b[0m \u001b[1m3s\u001b[0m 3s/step - accuracy: 0.2857 - loss: 6.7253\n",
      "Epoch 2/20\n",
      "\u001b[1m1/1\u001b[0m \u001b[32m━━━━━━━━━━━━━━━━━━━━\u001b[0m\u001b[37m\u001b[0m \u001b[1m0s\u001b[0m 49ms/step - accuracy: 0.2857 - loss: 6.2944\n",
      "Epoch 3/20\n",
      "\u001b[1m1/1\u001b[0m \u001b[32m━━━━━━━━━━━━━━━━━━━━\u001b[0m\u001b[37m\u001b[0m \u001b[1m0s\u001b[0m 36ms/step - accuracy: 0.2857 - loss: 5.8645\n",
      "Epoch 4/20\n",
      "\u001b[1m1/1\u001b[0m \u001b[32m━━━━━━━━━━━━━━━━━━━━\u001b[0m\u001b[37m\u001b[0m \u001b[1m0s\u001b[0m 45ms/step - accuracy: 0.2857 - loss: 5.4357\n",
      "Epoch 5/20\n",
      "\u001b[1m1/1\u001b[0m \u001b[32m━━━━━━━━━━━━━━━━━━━━\u001b[0m\u001b[37m\u001b[0m \u001b[1m0s\u001b[0m 73ms/step - accuracy: 0.2857 - loss: 5.0077\n",
      "Epoch 6/20\n",
      "\u001b[1m1/1\u001b[0m \u001b[32m━━━━━━━━━━━━━━━━━━━━\u001b[0m\u001b[37m\u001b[0m \u001b[1m0s\u001b[0m 42ms/step - accuracy: 0.2857 - loss: 4.5777\n",
      "Epoch 7/20\n",
      "\u001b[1m1/1\u001b[0m \u001b[32m━━━━━━━━━━━━━━━━━━━━\u001b[0m\u001b[37m\u001b[0m \u001b[1m0s\u001b[0m 87ms/step - accuracy: 0.2857 - loss: 4.1492\n",
      "Epoch 8/20\n",
      "\u001b[1m1/1\u001b[0m \u001b[32m━━━━━━━━━━━━━━━━━━━━\u001b[0m\u001b[37m\u001b[0m \u001b[1m0s\u001b[0m 56ms/step - accuracy: 0.2857 - loss: 3.7228\n",
      "Epoch 9/20\n",
      "\u001b[1m1/1\u001b[0m \u001b[32m━━━━━━━━━━━━━━━━━━━━\u001b[0m\u001b[37m\u001b[0m \u001b[1m0s\u001b[0m 36ms/step - accuracy: 0.2857 - loss: 3.3226\n",
      "Epoch 10/20\n",
      "\u001b[1m1/1\u001b[0m \u001b[32m━━━━━━━━━━━━━━━━━━━━\u001b[0m\u001b[37m\u001b[0m \u001b[1m0s\u001b[0m 72ms/step - accuracy: 0.2857 - loss: 2.9310\n",
      "Epoch 11/20\n",
      "\u001b[1m1/1\u001b[0m \u001b[32m━━━━━━━━━━━━━━━━━━━━\u001b[0m\u001b[37m\u001b[0m \u001b[1m0s\u001b[0m 66ms/step - accuracy: 0.2857 - loss: 2.5474\n",
      "Epoch 12/20\n",
      "\u001b[1m1/1\u001b[0m \u001b[32m━━━━━━━━━━━━━━━━━━━━\u001b[0m\u001b[37m\u001b[0m \u001b[1m0s\u001b[0m 44ms/step - accuracy: 0.2857 - loss: 2.1716\n",
      "Epoch 13/20\n",
      "\u001b[1m1/1\u001b[0m \u001b[32m━━━━━━━━━━━━━━━━━━━━\u001b[0m\u001b[37m\u001b[0m \u001b[1m0s\u001b[0m 50ms/step - accuracy: 0.2857 - loss: 1.8069\n",
      "Epoch 14/20\n",
      "\u001b[1m1/1\u001b[0m \u001b[32m━━━━━━━━━━━━━━━━━━━━\u001b[0m\u001b[37m\u001b[0m \u001b[1m0s\u001b[0m 66ms/step - accuracy: 0.2857 - loss: 1.4588\n",
      "Epoch 15/20\n",
      "\u001b[1m1/1\u001b[0m \u001b[32m━━━━━━━━━━━━━━━━━━━━\u001b[0m\u001b[37m\u001b[0m \u001b[1m0s\u001b[0m 75ms/step - accuracy: 0.2857 - loss: 1.1358\n",
      "Epoch 16/20\n",
      "\u001b[1m1/1\u001b[0m \u001b[32m━━━━━━━━━━━━━━━━━━━━\u001b[0m\u001b[37m\u001b[0m \u001b[1m0s\u001b[0m 43ms/step - accuracy: 0.2857 - loss: 0.8492\n",
      "Epoch 17/20\n",
      "\u001b[1m1/1\u001b[0m \u001b[32m━━━━━━━━━━━━━━━━━━━━\u001b[0m\u001b[37m\u001b[0m \u001b[1m0s\u001b[0m 41ms/step - accuracy: 0.5714 - loss: 0.6160\n",
      "Epoch 18/20\n",
      "\u001b[1m1/1\u001b[0m \u001b[32m━━━━━━━━━━━━━━━━━━━━\u001b[0m\u001b[37m\u001b[0m \u001b[1m0s\u001b[0m 36ms/step - accuracy: 0.8571 - loss: 0.4624\n",
      "Epoch 19/20\n",
      "\u001b[1m1/1\u001b[0m \u001b[32m━━━━━━━━━━━━━━━━━━━━\u001b[0m\u001b[37m\u001b[0m \u001b[1m0s\u001b[0m 36ms/step - accuracy: 0.8571 - loss: 0.3915\n",
      "Epoch 20/20\n",
      "\u001b[1m1/1\u001b[0m \u001b[32m━━━━━━━━━━━━━━━━━━━━\u001b[0m\u001b[37m\u001b[0m \u001b[1m0s\u001b[0m 50ms/step - accuracy: 0.7143 - loss: 0.3999\n"
     ]
    },
    {
     "data": {
      "text/plain": [
       "<keras.src.callbacks.history.History at 0x27815f30890>"
      ]
     },
     "execution_count": 30,
     "metadata": {},
     "output_type": "execute_result"
    }
   ],
   "source": [
    "from tensorflow.keras.models import Sequential\n",
    "from tensorflow.keras.layers import Dense\n",
    "\n",
    "nn_model = Sequential([\n",
    "    Dense(16, activation='relu', input_dim=X.shape[1]),\n",
    "    Dense(8, activation='relu'),\n",
    "    Dense(1, activation='sigmoid')\n",
    "])\n",
    "\n",
    "nn_model.compile(optimizer='adam', loss='binary_crossentropy', metrics=['accuracy'])\n",
    "nn_model.fit(X_train, y_train, epochs=20, verbose=1)\n"
   ]
  },
  {
   "cell_type": "markdown",
   "id": "0bb5048d",
   "metadata": {},
   "source": [
    "## STEP 5: Monte Carlo Simulation for Chase Outcome"
   ]
  },
  {
   "cell_type": "code",
   "execution_count": null,
   "metadata": {},
   "outputs": [],
   "source": [
    "import random\n",
    "\n",
    "def simulate_chase(model, balls_left=240, target=250, current_runs=0, current_wickets=0):\n",
    "    simulations = []\n",
    "    for i in range(1000):  # 1000 matches\n",
    "        runs = current_runs\n",
    "        wickets = current_wickets\n",
    "        for b in range(balls_left):\n",
    "            rr = runs / ((b+1)/6) if b > 0 else 0\n",
    "            sample = pd.DataFrame([[runs, wickets, b+1, rr]], columns=features)\n",
    "            win_prob = model.predict_proba(sample)[0][1]\n",
    "            if random.random() < win_prob:\n",
    "                runs += random.randint(0, 6)\n",
    "            if random.random() < 0.02:  # simulate wicket\n",
    "                wickets += 1\n",
    "            if runs >= target:\n",
    "                simulations.append(1)\n",
    "                break\n",
    "            if wickets == 10:\n",
    "                simulations.append(0)\n",
    "                break\n",
    "    return sum(simulations) / len(simulations)\n",
    "\n",
    "win_chance = simulate_chase(model)\n",
    "print(f\"Predicted Win Probability via Simulation: {round(win_chance * 100, 2)}%\")\n"
   ]
  },
  {
   "cell_type": "code",
   "execution_count": null,
   "id": "28fdcd14",
   "metadata": {},
   "outputs": [],
   "source": []
  },
  {
   "cell_type": "code",
   "execution_count": null,
   "id": "6099f552",
   "metadata": {},
   "outputs": [],
   "source": []
  },
  {
   "cell_type": "markdown",
   "id": "1641d020",
   "metadata": {},
   "source": [
    "## Step 1: Aiden Markram's Last 10 Innings Analysis"
   ]
  },
  {
   "cell_type": "code",
   "execution_count": 7,
   "id": "56761433",
   "metadata": {},
   "outputs": [],
   "source": [
    "import pandas as pd\n",
    "\n",
    "# Aiden Markram's last 10 innings (simulated)\n",
    "markram_data = {\n",
    "    \"runs\": [34, 89, 120, 18, 65, 42, 150, 77, 25, 102],\n",
    "    \"balls_faced\": [70, 120, 150, 45, 100, 90, 200, 130, 60, 140]\n",
    "}\n"
   ]
  },
  {
   "cell_type": "markdown",
   "id": "9de0988c",
   "metadata": {},
   "source": [
    "### Step 1.2: Calculate the Strike Rate"
   ]
  },
  {
   "cell_type": "code",
   "execution_count": 8,
   "id": "c1192239",
   "metadata": {},
   "outputs": [
    {
     "name": "stdout",
     "output_type": "stream",
     "text": [
      "   runs  balls_faced  strike_rate\n",
      "0    34           70        48.57\n",
      "1    89          120        74.17\n",
      "2   120          150        80.00\n",
      "3    18           45        40.00\n",
      "4    65          100        65.00\n",
      "5    42           90        46.67\n",
      "6   150          200        75.00\n",
      "7    77          130        59.23\n",
      "8    25           60        41.67\n",
      "9   102          140        72.86\n"
     ]
    }
   ],
   "source": [
    "# Add strike rate to the dataset\n",
    "markram_data[\"strike_rate\"] = [round(r / b * 100, 2) for r, b in zip(markram_data[\"runs\"], markram_data[\"balls_faced\"])]\n",
    "\n",
    "# Create DataFrame\n",
    "markram_df = pd.DataFrame(markram_data)\n",
    "\n",
    "# Display it\n",
    "print(markram_df)\n"
   ]
  },
  {
   "cell_type": "markdown",
   "id": "467c34a0",
   "metadata": {},
   "source": [
    "## Step 2: Bowling Pressure Index"
   ]
  },
  {
   "cell_type": "code",
   "execution_count": 9,
   "id": "48bae5b7",
   "metadata": {},
   "outputs": [],
   "source": [
    "# Simulated bowling data for 10 overs\n",
    "bowling_data = {\n",
    "    \"over_number\": list(range(1, 11)),\n",
    "    \"dot_balls\": [3, 2, 4, 5, 3, 2, 1, 4, 5, 6],\n",
    "    \"runs_conceded\": [4, 6, 2, 3, 5, 7, 10, 3, 2, 1],\n",
    "    \"reverse_swing\": [0, 0, 0, 1, 1, 1, 1, 1, 1, 1]  # 0 = no swing, 1 = reverse swing present\n",
    "}\n"
   ]
  },
  {
   "cell_type": "markdown",
   "id": "35450a96",
   "metadata": {},
   "source": [
    "###  Step 2.2: Calculate RPO and Pressure Index"
   ]
  },
  {
   "cell_type": "code",
   "execution_count": 10,
   "id": "9d191f81",
   "metadata": {},
   "outputs": [
    {
     "name": "stdout",
     "output_type": "stream",
     "text": [
      "   over_number  dot_balls  runs_conceded  reverse_swing  RPO  pressure_index\n",
      "0            1          3              4              0    4              -1\n",
      "1            2          2              6              0    6              -4\n",
      "2            3          4              2              0    2               2\n",
      "3            4          5              3              1    3               3\n",
      "4            5          3              5              1    5              -1\n",
      "5            6          2              7              1    7              -4\n",
      "6            7          1             10              1   10              -8\n",
      "7            8          4              3              1    3               2\n",
      "8            9          5              2              1    2               4\n",
      "9           10          6              1              1    1               6\n"
     ]
    }
   ],
   "source": [
    "# Create DataFrame\n",
    "bowling_df = pd.DataFrame(bowling_data)\n",
    "\n",
    "# RPO: Runs per over\n",
    "bowling_df[\"RPO\"] = bowling_df[\"runs_conceded\"]\n",
    "\n",
    "# Pressure Index = dot_balls + reverse_swing - RPO\n",
    "bowling_df[\"pressure_index\"] = bowling_df[\"dot_balls\"] + bowling_df[\"reverse_swing\"] - bowling_df[\"RPO\"]\n",
    "\n",
    "# Show result\n",
    "print(bowling_df)\n"
   ]
  },
  {
   "cell_type": "markdown",
   "id": "4f09958a",
   "metadata": {},
   "source": [
    "## Step 3: Weather Impact Features"
   ]
  },
  {
   "cell_type": "code",
   "execution_count": 11,
   "id": "0403bded",
   "metadata": {},
   "outputs": [],
   "source": [
    "# Simulated weather data across 3 days of the Test match\n",
    "weather_data = {\n",
    "    \"day\": [\"Day 1\", \"Day 2\", \"Day 3\"],\n",
    "    \"humidity\": [60, 75, 80],         # In percentage\n",
    "    \"cloud_cover\": [40, 60, 90]       # In percentage\n",
    "}\n"
   ]
  },
  {
   "cell_type": "markdown",
   "id": "69489a46",
   "metadata": {},
   "source": [
    "### Step 3.2: Derive swing factor from weather"
   ]
  },
  {
   "cell_type": "code",
   "execution_count": 12,
   "id": "3db2fdb2",
   "metadata": {},
   "outputs": [
    {
     "name": "stdout",
     "output_type": "stream",
     "text": [
      "     day  humidity  cloud_cover  swing_factor\n",
      "0  Day 1        60           40         0.500\n",
      "1  Day 2        75           60         0.675\n",
      "2  Day 3        80           90         0.850\n"
     ]
    }
   ],
   "source": [
    "# Convert to DataFrame\n",
    "weather_df = pd.DataFrame(weather_data)\n",
    "\n",
    "# Normalize and compute swing factor (simple average of scaled humidity and cloud cover)\n",
    "weather_df[\"swing_factor\"] = (weather_df[\"humidity\"] / 100 + weather_df[\"cloud_cover\"] / 100) / 2\n",
    "\n",
    "# Show result\n",
    "print(weather_df)\n"
   ]
  },
  {
   "cell_type": "markdown",
   "id": "7884336b",
   "metadata": {},
   "source": [
    "## Step 4: Ball Type (New vs Old) and Wicket Outcomes"
   ]
  },
  {
   "cell_type": "markdown",
   "id": "555cf856",
   "metadata": {},
   "source": [
    "###  Step 4.1: Simulate ball condition and wicket data"
   ]
  },
  {
   "cell_type": "code",
   "execution_count": 13,
   "id": "758f78c8",
   "metadata": {},
   "outputs": [],
   "source": [
    "# Simulated ball-by-ball data for 90 balls\n",
    "ball_data = {\n",
    "    \"ball_number\": list(range(1, 91)),\n",
    "    \"wicket_taken\": [0, 1, 0, 0, 1, 0, 0, 0, 0]*10  # Repeated pattern, 1 = wicket\n",
    "}\n"
   ]
  },
  {
   "cell_type": "markdown",
   "id": "be4a5157",
   "metadata": {},
   "source": [
    "###  Step 4.2: Label ball condition"
   ]
  },
  {
   "cell_type": "code",
   "execution_count": 14,
   "id": "79ec2b58",
   "metadata": {},
   "outputs": [
    {
     "name": "stdout",
     "output_type": "stream",
     "text": [
      "    ball_number  wicket_taken condition\n",
      "0             1             0       new\n",
      "1             2             1       new\n",
      "2             3             0       new\n",
      "3             4             0       new\n",
      "4             5             1       new\n",
      "5             6             0       new\n",
      "6             7             0       new\n",
      "7             8             0       new\n",
      "8             9             0       new\n",
      "9            10             0       new\n",
      "10           11             1       new\n",
      "11           12             0       new\n",
      "12           13             0       new\n",
      "13           14             1       new\n",
      "14           15             0       new\n"
     ]
    }
   ],
   "source": [
    "# Add ball condition based on ball number\n",
    "# New: 1–30, Semi-old: 31–60, Old: 61–90\n",
    "ball_data[\"condition\"] = [\n",
    "    \"new\" if x <= 30 else \"semi-old\" if x <= 60 else \"old\"\n",
    "    for x in ball_data[\"ball_number\"]\n",
    "]\n",
    "\n",
    "# Create DataFrame\n",
    "ball_df = pd.DataFrame(ball_data)\n",
    "\n",
    "# Show result\n",
    "print(ball_df.head(15))  # Show first 15 balls as a sample\n"
   ]
  },
  {
   "cell_type": "markdown",
   "id": "07d379b9",
   "metadata": {},
   "source": [
    "## Step 5: Visualizations for Insights"
   ]
  },
  {
   "cell_type": "markdown",
   "id": "3feae276",
   "metadata": {},
   "source": [
    "### 5.1: Aiden Markram – Strike Rate per Innings"
   ]
  },
  {
   "cell_type": "code",
   "execution_count": 15,
   "id": "1b3839b8",
   "metadata": {},
   "outputs": [
    {
     "data": {
      "image/png": "[encoded data removed]",
      "text/plain": [
       "<Figure size 1000x400 with 1 Axes>"
      ]
     },
     "metadata": {},
     "output_type": "display_data"
    }
   ],
   "source": [
    "import matplotlib.pyplot as plt\n",
    "import seaborn as sns\n",
    "\n",
    "# Plot strike rate over innings\n",
    "plt.figure(figsize=(10, 4))\n",
    "sns.lineplot(x=range(1, 11), y=markram_df[\"strike_rate\"], marker=\"o\", label=\"Strike Rate\")\n",
    "plt.title(\"Aiden Markram's Strike Rate – Last 10 Innings\")\n",
    "plt.xlabel(\"Innings Number\")\n",
    "plt.ylabel(\"Strike Rate\")\n",
    "plt.grid(True)\n",
    "plt.xticks(range(1, 11))\n",
    "plt.legend()\n",
    "plt.tight_layout()\n",
    "plt.show()\n"
   ]
  },
  {
   "cell_type": "markdown",
   "id": "815af7c7",
   "metadata": {},
   "source": [
    "###  5.2: Bowling Pressure Index by Over"
   ]
  },
  {
   "cell_type": "code",
   "execution_count": 16,
   "id": "0c1b2ceb",
   "metadata": {},
   "outputs": [
    {
     "name": "stderr",
     "output_type": "stream",
     "text": [
      "C:\\Users\\Pankaj\\AppData\\Local\\Temp\\ipykernel_14384\\2572880911.py:3: FutureWarning: \n",
      "\n",
      "Passing `palette` without assigning `hue` is deprecated and will be removed in v0.14.0. Assign the `x` variable to `hue` and set `legend=False` for the same effect.\n",
      "\n",
      "  sns.barplot(x=\"over_number\", y=\"pressure_index\", data=bowling_df, palette=\"coolwarm\")\n"
     ]
    },
    {
     "data": {
      "image/png": "[encoded data removed]",
      "text/plain": [
       "<Figure size 1000x400 with 1 Axes>"
      ]
     },
     "metadata": {},
     "output_type": "display_data"
    }
   ],
   "source": [
    "# Plot pressure index\n",
    "plt.figure(figsize=(10, 4))\n",
    "sns.barplot(x=\"over_number\", y=\"pressure_index\", data=bowling_df, palette=\"coolwarm\")\n",
    "plt.title(\"Bowling Pressure Index Over 10 Overs\")\n",
    "plt.xlabel(\"Over Number\")\n",
    "plt.ylabel(\"Pressure Index\")\n",
    "plt.grid(True)\n",
    "plt.tight_layout()\n",
    "plt.show()\n"
   ]
  },
  {
   "cell_type": "markdown",
   "id": "2c4261a2",
   "metadata": {},
   "source": [
    "### 5.3: Swing Factor by Match Day (Weather)"
   ]
  },
  {
   "cell_type": "code",
   "execution_count": 17,
   "id": "1185fd79",
   "metadata": {},
   "outputs": [
    {
     "name": "stderr",
     "output_type": "stream",
     "text": [
      "C:\\Users\\Pankaj\\AppData\\Local\\Temp\\ipykernel_14384\\3691214450.py:3: FutureWarning: \n",
      "\n",
      "Passing `palette` without assigning `hue` is deprecated and will be removed in v0.14.0. Assign the `x` variable to `hue` and set `legend=False` for the same effect.\n",
      "\n",
      "  sns.barplot(x=\"day\", y=\"swing_factor\", data=weather_df, palette=\"Blues\")\n"
     ]
    },
    {
     "data": {
      "image/png": "[encoded data removed]",
      "text/plain": [
       "<Figure size 800x400 with 1 Axes>"
      ]
     },
     "metadata": {},
     "output_type": "display_data"
    }
   ],
   "source": [
    "# Line plot for swing factor\n",
    "plt.figure(figsize=(8, 4))\n",
    "sns.barplot(x=\"day\", y=\"swing_factor\", data=weather_df, palette=\"Blues\")\n",
    "plt.title(\"Weather-Based Swing Factor by Day\")\n",
    "plt.ylabel(\"Swing Factor\")\n",
    "plt.ylim(0, 1)\n",
    "plt.grid(axis='y')\n",
    "plt.tight_layout()\n",
    "plt.show()\n"
   ]
  },
  {
   "cell_type": "markdown",
   "id": "70e2bb3f",
   "metadata": {},
   "source": [
    "### 5.4: Wickets Taken by Ball Condition"
   ]
  },
  {
   "cell_type": "code",
   "execution_count": 18,
   "id": "1d79edb5",
   "metadata": {},
   "outputs": [
    {
     "name": "stderr",
     "output_type": "stream",
     "text": [
      "C:\\Users\\Pankaj\\AppData\\Local\\Temp\\ipykernel_14384\\3684926688.py:6: FutureWarning: \n",
      "\n",
      "Passing `palette` without assigning `hue` is deprecated and will be removed in v0.14.0. Assign the `x` variable to `hue` and set `legend=False` for the same effect.\n",
      "\n",
      "  sns.barplot(x=\"condition\", y=\"wicket_taken\", data=condition_wickets, palette=\"Set2\")\n"
     ]
    },
    {
     "data": {
      "image/png": "[encoded data removed]",
      "text/plain": [
       "<Figure size 600x400 with 1 Axes>"
      ]
     },
     "metadata": {},
     "output_type": "display_data"
    }
   ],
   "source": [
    "# Count of wickets per ball condition\n",
    "condition_wickets = ball_df.groupby(\"condition\")[\"wicket_taken\"].sum().reset_index()\n",
    "\n",
    "# Plot\n",
    "plt.figure(figsize=(6, 4))\n",
    "sns.barplot(x=\"condition\", y=\"wicket_taken\", data=condition_wickets, palette=\"Set2\")\n",
    "plt.title(\"Wickets Taken by Ball Condition\")\n",
    "plt.ylabel(\"Number of Wickets\")\n",
    "plt.grid(axis='y')\n",
    "plt.tight_layout()\n",
    "plt.show()\n"
   ]
  }
 ],
 "metadata": {
  "kernelspec": {
   "display_name": "base",
   "language": "python",
   "name": "python3"
  },
  "language_info": {
   "codemirror_mode": {
    "name": "ipython",
    "version": 3
   },
   "file_extension": ".py",
   "mimetype": "text/x-python",
   "name": "python",
   "nbconvert_exporter": "python",
   "pygments_lexer": "ipython3",
   "version": "3.12.3"
  }
 },
 "nbformat": 4,
 "nbformat_minor": 5
}
